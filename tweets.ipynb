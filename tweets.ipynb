{
 "cells": [
  {
   "cell_type": "code",
   "execution_count": 5,
   "metadata": {},
   "outputs": [],
   "source": [
    "#Se importa Pandas\n",
    "import pandas as pd"
   ]
  },
  {
   "cell_type": "code",
   "execution_count": 6,
   "metadata": {},
   "outputs": [],
   "source": [
    "#Se leen los tweets \n",
    "tweets = pd.read_json(r\"C:\\Users\\Kevin\\Documents\\NAO\\MySQL\\data\\tweets_extraction.json\")"
   ]
  },
  {
   "cell_type": "code",
   "execution_count": 7,
   "metadata": {},
   "outputs": [
    {
     "name": "stdout",
     "output_type": "stream",
     "text": [
      "<class 'pandas.core.frame.DataFrame'>\n",
      "RangeIndex: 290606 entries, 0 to 290605\n",
      "Data columns (total 7 columns):\n",
      " #   Column     Non-Null Count   Dtype \n",
      "---  ------     --------------   ----- \n",
      " 0   id         290606 non-null  int64 \n",
      " 1   texto      290606 non-null  object\n",
      " 2   usuario    290606 non-null  object\n",
      " 3   hashtags   290606 non-null  object\n",
      " 4   fecha      290606 non-null  object\n",
      " 5   retweets   290606 non-null  int64 \n",
      " 6   favoritos  290606 non-null  int64 \n",
      "dtypes: int64(3), object(4)\n",
      "memory usage: 15.5+ MB\n"
     ]
    }
   ],
   "source": [
    "#Se comienza a explorar los datos\n",
    "tweets.info()"
   ]
  },
  {
   "cell_type": "code",
   "execution_count": 8,
   "metadata": {},
   "outputs": [
    {
     "data": {
      "text/html": [
       "<div>\n",
       "<style scoped>\n",
       "    .dataframe tbody tr th:only-of-type {\n",
       "        vertical-align: middle;\n",
       "    }\n",
       "\n",
       "    .dataframe tbody tr th {\n",
       "        vertical-align: top;\n",
       "    }\n",
       "\n",
       "    .dataframe thead th {\n",
       "        text-align: right;\n",
       "    }\n",
       "</style>\n",
       "<table border=\"1\" class=\"dataframe\">\n",
       "  <thead>\n",
       "    <tr style=\"text-align: right;\">\n",
       "      <th></th>\n",
       "      <th>id</th>\n",
       "      <th>texto</th>\n",
       "      <th>usuario</th>\n",
       "      <th>hashtags</th>\n",
       "      <th>fecha</th>\n",
       "      <th>retweets</th>\n",
       "      <th>favoritos</th>\n",
       "    </tr>\n",
       "  </thead>\n",
       "  <tbody>\n",
       "    <tr>\n",
       "      <th>0</th>\n",
       "      <td>12116719578733158</td>\n",
       "      <td>#BrechaAnuario2019 | Con cañón y coronel El vo...</td>\n",
       "      <td>SemanarioBrecha</td>\n",
       "      <td>[BrechaAnuario2019, RelecturasDeUnAñoPerturbador]</td>\n",
       "      <td>2021-12-30T15:34:41.000Z</td>\n",
       "      <td>3</td>\n",
       "      <td>2</td>\n",
       "    </tr>\n",
       "    <tr>\n",
       "      <th>1</th>\n",
       "      <td>12116547084876964</td>\n",
       "      <td>#BrechaAnuario2019 | Las PASO en Argentina \"Em...</td>\n",
       "      <td>SemanarioBrecha</td>\n",
       "      <td>[BrechaAnuario2019]</td>\n",
       "      <td>2021-12-30T14:26:08.000Z</td>\n",
       "      <td>2</td>\n",
       "      <td>1</td>\n",
       "    </tr>\n",
       "    <tr>\n",
       "      <th>2</th>\n",
       "      <td>12116529643744992</td>\n",
       "      <td>#BrechaAnuario2019 | Bolsonaro contra la selva...</td>\n",
       "      <td>SemanarioBrecha</td>\n",
       "      <td>[BrechaAnuario2019]</td>\n",
       "      <td>2021-12-30T14:19:12.000Z</td>\n",
       "      <td>3</td>\n",
       "      <td>2</td>\n",
       "    </tr>\n",
       "    <tr>\n",
       "      <th>3</th>\n",
       "      <td>12110290516301292</td>\n",
       "      <td>#BrechaAnuario2019 | Aquí, los temas que apare...</td>\n",
       "      <td>SemanarioBrecha</td>\n",
       "      <td>[BrechaAnuario2019, RelecturasDeUnAñoPerturbador]</td>\n",
       "      <td>2021-12-28T21:00:00.000Z</td>\n",
       "      <td>2</td>\n",
       "      <td>5</td>\n",
       "    </tr>\n",
       "    <tr>\n",
       "      <th>4</th>\n",
       "      <td>12107119614801142</td>\n",
       "      <td>#BrechaAnuario2019 | El mejor dibujante de his...</td>\n",
       "      <td>SemanarioBrecha</td>\n",
       "      <td>[BrechaAnuario2019]</td>\n",
       "      <td>2021-12-28T00:00:00.000Z</td>\n",
       "      <td>0</td>\n",
       "      <td>4</td>\n",
       "    </tr>\n",
       "  </tbody>\n",
       "</table>\n",
       "</div>"
      ],
      "text/plain": [
       "                  id                                              texto  \\\n",
       "0  12116719578733158  #BrechaAnuario2019 | Con cañón y coronel El vo...   \n",
       "1  12116547084876964  #BrechaAnuario2019 | Las PASO en Argentina \"Em...   \n",
       "2  12116529643744992  #BrechaAnuario2019 | Bolsonaro contra la selva...   \n",
       "3  12110290516301292  #BrechaAnuario2019 | Aquí, los temas que apare...   \n",
       "4  12107119614801142  #BrechaAnuario2019 | El mejor dibujante de his...   \n",
       "\n",
       "           usuario                                           hashtags  \\\n",
       "0  SemanarioBrecha  [BrechaAnuario2019, RelecturasDeUnAñoPerturbador]   \n",
       "1  SemanarioBrecha                                [BrechaAnuario2019]   \n",
       "2  SemanarioBrecha                                [BrechaAnuario2019]   \n",
       "3  SemanarioBrecha  [BrechaAnuario2019, RelecturasDeUnAñoPerturbador]   \n",
       "4  SemanarioBrecha                                [BrechaAnuario2019]   \n",
       "\n",
       "                      fecha  retweets  favoritos  \n",
       "0  2021-12-30T15:34:41.000Z         3          2  \n",
       "1  2021-12-30T14:26:08.000Z         2          1  \n",
       "2  2021-12-30T14:19:12.000Z         3          2  \n",
       "3  2021-12-28T21:00:00.000Z         2          5  \n",
       "4  2021-12-28T00:00:00.000Z         0          4  "
      ]
     },
     "execution_count": 8,
     "metadata": {},
     "output_type": "execute_result"
    }
   ],
   "source": [
    "tweets.head()"
   ]
  },
  {
   "cell_type": "code",
   "execution_count": 9,
   "metadata": {},
   "outputs": [],
   "source": [
    "#Se convierte la columna fecha al formato correcto\n",
    "tweets['fecha'] = pd.to_datetime(tweets[\"fecha\"])"
   ]
  },
  {
   "cell_type": "code",
   "execution_count": 10,
   "metadata": {},
   "outputs": [
    {
     "name": "stdout",
     "output_type": "stream",
     "text": [
      "<class 'pandas.core.frame.DataFrame'>\n",
      "RangeIndex: 290606 entries, 0 to 290605\n",
      "Data columns (total 7 columns):\n",
      " #   Column     Non-Null Count   Dtype              \n",
      "---  ------     --------------   -----              \n",
      " 0   id         290606 non-null  int64              \n",
      " 1   texto      290606 non-null  object             \n",
      " 2   usuario    290606 non-null  object             \n",
      " 3   hashtags   290606 non-null  object             \n",
      " 4   fecha      290606 non-null  datetime64[ns, UTC]\n",
      " 5   retweets   290606 non-null  int64              \n",
      " 6   favoritos  290606 non-null  int64              \n",
      "dtypes: datetime64[ns, UTC](1), int64(3), object(3)\n",
      "memory usage: 15.5+ MB\n"
     ]
    }
   ],
   "source": [
    "#Se verifica que se hayan aplicado exitosamente los cambios\n",
    "tweets.info()"
   ]
  },
  {
   "cell_type": "code",
   "execution_count": 11,
   "metadata": {},
   "outputs": [
    {
     "name": "stdout",
     "output_type": "stream",
     "text": [
      "id                         int64\n",
      "texto                     object\n",
      "usuario                   object\n",
      "hashtags                  object\n",
      "fecha        datetime64[ns, UTC]\n",
      "retweets                   int64\n",
      "favoritos                  int64\n",
      "dtype: object\n"
     ]
    }
   ],
   "source": [
    "#Se comprueba con otro atributo las columnas\n",
    "print(tweets.dtypes)"
   ]
  },
  {
   "cell_type": "code",
   "execution_count": 12,
   "metadata": {},
   "outputs": [
    {
     "data": {
      "text/plain": [
       "0    [BrechaAnuario2019, RelecturasDeUnAñoPerturbador]\n",
       "1                                  [BrechaAnuario2019]\n",
       "2                                  [BrechaAnuario2019]\n",
       "3    [BrechaAnuario2019, RelecturasDeUnAñoPerturbador]\n",
       "4                                  [BrechaAnuario2019]\n",
       "Name: hashtags, dtype: object"
      ]
     },
     "execution_count": 12,
     "metadata": {},
     "output_type": "execute_result"
    }
   ],
   "source": [
    "#Como la columna hashtag contiene listas no se puede verificar las filas duplicadas\n",
    "tweets.hashtags.head()"
   ]
  },
  {
   "cell_type": "code",
   "execution_count": 13,
   "metadata": {},
   "outputs": [],
   "source": [
    "#Se utiliza apply para poder acceder a las listas de hashtag ya que no son elementos hashtables\n",
    "tweets.hashtags = tweets[\"hashtags\"].apply(tuple)"
   ]
  },
  {
   "cell_type": "code",
   "execution_count": 14,
   "metadata": {},
   "outputs": [
    {
     "data": {
      "text/html": [
       "<div>\n",
       "<style scoped>\n",
       "    .dataframe tbody tr th:only-of-type {\n",
       "        vertical-align: middle;\n",
       "    }\n",
       "\n",
       "    .dataframe tbody tr th {\n",
       "        vertical-align: top;\n",
       "    }\n",
       "\n",
       "    .dataframe thead th {\n",
       "        text-align: right;\n",
       "    }\n",
       "</style>\n",
       "<table border=\"1\" class=\"dataframe\">\n",
       "  <thead>\n",
       "    <tr style=\"text-align: right;\">\n",
       "      <th></th>\n",
       "      <th>id</th>\n",
       "      <th>texto</th>\n",
       "      <th>usuario</th>\n",
       "      <th>hashtags</th>\n",
       "      <th>fecha</th>\n",
       "      <th>retweets</th>\n",
       "      <th>favoritos</th>\n",
       "    </tr>\n",
       "  </thead>\n",
       "  <tbody>\n",
       "    <tr>\n",
       "      <th>0</th>\n",
       "      <td>12116719578733158</td>\n",
       "      <td>#BrechaAnuario2019 | Con cañón y coronel El vo...</td>\n",
       "      <td>SemanarioBrecha</td>\n",
       "      <td>(BrechaAnuario2019, RelecturasDeUnAñoPerturbador)</td>\n",
       "      <td>2021-12-30 15:34:41+00:00</td>\n",
       "      <td>3</td>\n",
       "      <td>2</td>\n",
       "    </tr>\n",
       "    <tr>\n",
       "      <th>1</th>\n",
       "      <td>12116547084876964</td>\n",
       "      <td>#BrechaAnuario2019 | Las PASO en Argentina \"Em...</td>\n",
       "      <td>SemanarioBrecha</td>\n",
       "      <td>(BrechaAnuario2019,)</td>\n",
       "      <td>2021-12-30 14:26:08+00:00</td>\n",
       "      <td>2</td>\n",
       "      <td>1</td>\n",
       "    </tr>\n",
       "    <tr>\n",
       "      <th>2</th>\n",
       "      <td>12116529643744992</td>\n",
       "      <td>#BrechaAnuario2019 | Bolsonaro contra la selva...</td>\n",
       "      <td>SemanarioBrecha</td>\n",
       "      <td>(BrechaAnuario2019,)</td>\n",
       "      <td>2021-12-30 14:19:12+00:00</td>\n",
       "      <td>3</td>\n",
       "      <td>2</td>\n",
       "    </tr>\n",
       "    <tr>\n",
       "      <th>3</th>\n",
       "      <td>12110290516301292</td>\n",
       "      <td>#BrechaAnuario2019 | Aquí, los temas que apare...</td>\n",
       "      <td>SemanarioBrecha</td>\n",
       "      <td>(BrechaAnuario2019, RelecturasDeUnAñoPerturbador)</td>\n",
       "      <td>2021-12-28 21:00:00+00:00</td>\n",
       "      <td>2</td>\n",
       "      <td>5</td>\n",
       "    </tr>\n",
       "    <tr>\n",
       "      <th>4</th>\n",
       "      <td>12107119614801142</td>\n",
       "      <td>#BrechaAnuario2019 | El mejor dibujante de his...</td>\n",
       "      <td>SemanarioBrecha</td>\n",
       "      <td>(BrechaAnuario2019,)</td>\n",
       "      <td>2021-12-28 00:00:00+00:00</td>\n",
       "      <td>0</td>\n",
       "      <td>4</td>\n",
       "    </tr>\n",
       "  </tbody>\n",
       "</table>\n",
       "</div>"
      ],
      "text/plain": [
       "                  id                                              texto  \\\n",
       "0  12116719578733158  #BrechaAnuario2019 | Con cañón y coronel El vo...   \n",
       "1  12116547084876964  #BrechaAnuario2019 | Las PASO en Argentina \"Em...   \n",
       "2  12116529643744992  #BrechaAnuario2019 | Bolsonaro contra la selva...   \n",
       "3  12110290516301292  #BrechaAnuario2019 | Aquí, los temas que apare...   \n",
       "4  12107119614801142  #BrechaAnuario2019 | El mejor dibujante de his...   \n",
       "\n",
       "           usuario                                           hashtags  \\\n",
       "0  SemanarioBrecha  (BrechaAnuario2019, RelecturasDeUnAñoPerturbador)   \n",
       "1  SemanarioBrecha                               (BrechaAnuario2019,)   \n",
       "2  SemanarioBrecha                               (BrechaAnuario2019,)   \n",
       "3  SemanarioBrecha  (BrechaAnuario2019, RelecturasDeUnAñoPerturbador)   \n",
       "4  SemanarioBrecha                               (BrechaAnuario2019,)   \n",
       "\n",
       "                      fecha  retweets  favoritos  \n",
       "0 2021-12-30 15:34:41+00:00         3          2  \n",
       "1 2021-12-30 14:26:08+00:00         2          1  \n",
       "2 2021-12-30 14:19:12+00:00         3          2  \n",
       "3 2021-12-28 21:00:00+00:00         2          5  \n",
       "4 2021-12-28 00:00:00+00:00         0          4  "
      ]
     },
     "execution_count": 14,
     "metadata": {},
     "output_type": "execute_result"
    }
   ],
   "source": [
    "tweets.head()"
   ]
  },
  {
   "cell_type": "code",
   "execution_count": 15,
   "metadata": {},
   "outputs": [
    {
     "data": {
      "text/plain": [
       "np.int64(1153)"
      ]
     },
     "execution_count": 15,
     "metadata": {},
     "output_type": "execute_result"
    }
   ],
   "source": [
    "no_duplicados = tweets.duplicated().sum()\n",
    "no_duplicados"
   ]
  },
  {
   "cell_type": "code",
   "execution_count": 16,
   "metadata": {},
   "outputs": [],
   "source": [
    "duplicados = tweets[tweets.duplicated()]"
   ]
  },
  {
   "cell_type": "code",
   "execution_count": 17,
   "metadata": {},
   "outputs": [
    {
     "data": {
      "text/html": [
       "<div>\n",
       "<style scoped>\n",
       "    .dataframe tbody tr th:only-of-type {\n",
       "        vertical-align: middle;\n",
       "    }\n",
       "\n",
       "    .dataframe tbody tr th {\n",
       "        vertical-align: top;\n",
       "    }\n",
       "\n",
       "    .dataframe thead th {\n",
       "        text-align: right;\n",
       "    }\n",
       "</style>\n",
       "<table border=\"1\" class=\"dataframe\">\n",
       "  <thead>\n",
       "    <tr style=\"text-align: right;\">\n",
       "      <th></th>\n",
       "      <th>id</th>\n",
       "      <th>texto</th>\n",
       "      <th>usuario</th>\n",
       "      <th>hashtags</th>\n",
       "      <th>fecha</th>\n",
       "      <th>retweets</th>\n",
       "      <th>favoritos</th>\n",
       "    </tr>\n",
       "  </thead>\n",
       "  <tbody>\n",
       "    <tr>\n",
       "      <th>2363</th>\n",
       "      <td>1286775741489832</td>\n",
       "      <td>DE LA AMISTAD SALIR ILESOS | \"Fourteen\" de Dan...</td>\n",
       "      <td>SemanarioBrecha</td>\n",
       "      <td>(CinematecateAcompaña,)</td>\n",
       "      <td>2022-07-24 21:30:18+00:00</td>\n",
       "      <td>1</td>\n",
       "      <td>7</td>\n",
       "    </tr>\n",
       "    <tr>\n",
       "      <th>2364</th>\n",
       "      <td>1286730396869288</td>\n",
       "      <td>PUEDE Y DEBE RENDIR MÁS | Las madres ganan 42%...</td>\n",
       "      <td>SemanarioBrecha</td>\n",
       "      <td>()</td>\n",
       "      <td>2022-07-24 18:30:07+00:00</td>\n",
       "      <td>18</td>\n",
       "      <td>25</td>\n",
       "    </tr>\n",
       "    <tr>\n",
       "      <th>2365</th>\n",
       "      <td>1286677738074538</td>\n",
       "      <td>AL FONDO A LA DERECHA | La ideología económica...</td>\n",
       "      <td>SemanarioBrecha</td>\n",
       "      <td>()</td>\n",
       "      <td>2022-07-24 15:00:52+00:00</td>\n",
       "      <td>16</td>\n",
       "      <td>19</td>\n",
       "    </tr>\n",
       "    <tr>\n",
       "      <th>2366</th>\n",
       "      <td>12866397369295584</td>\n",
       "      <td>Todo esto y mucho más ya disponible para suscr...</td>\n",
       "      <td>SemanarioBrecha</td>\n",
       "      <td>()</td>\n",
       "      <td>2022-07-24 12:29:52+00:00</td>\n",
       "      <td>0</td>\n",
       "      <td>4</td>\n",
       "    </tr>\n",
       "    <tr>\n",
       "      <th>2367</th>\n",
       "      <td>1286639720022315</td>\n",
       "      <td>El Ejecutivo se compromete, «por un corto plaz...</td>\n",
       "      <td>SemanarioBrecha</td>\n",
       "      <td>()</td>\n",
       "      <td>2022-07-24 12:29:48+00:00</td>\n",
       "      <td>1</td>\n",
       "      <td>3</td>\n",
       "    </tr>\n",
       "  </tbody>\n",
       "</table>\n",
       "</div>"
      ],
      "text/plain": [
       "                     id                                              texto  \\\n",
       "2363   1286775741489832  DE LA AMISTAD SALIR ILESOS | \"Fourteen\" de Dan...   \n",
       "2364   1286730396869288  PUEDE Y DEBE RENDIR MÁS | Las madres ganan 42%...   \n",
       "2365   1286677738074538  AL FONDO A LA DERECHA | La ideología económica...   \n",
       "2366  12866397369295584  Todo esto y mucho más ya disponible para suscr...   \n",
       "2367   1286639720022315  El Ejecutivo se compromete, «por un corto plaz...   \n",
       "\n",
       "              usuario                 hashtags                     fecha  \\\n",
       "2363  SemanarioBrecha  (CinematecateAcompaña,) 2022-07-24 21:30:18+00:00   \n",
       "2364  SemanarioBrecha                       () 2022-07-24 18:30:07+00:00   \n",
       "2365  SemanarioBrecha                       () 2022-07-24 15:00:52+00:00   \n",
       "2366  SemanarioBrecha                       () 2022-07-24 12:29:52+00:00   \n",
       "2367  SemanarioBrecha                       () 2022-07-24 12:29:48+00:00   \n",
       "\n",
       "      retweets  favoritos  \n",
       "2363         1          7  \n",
       "2364        18         25  \n",
       "2365        16         19  \n",
       "2366         0          4  \n",
       "2367         1          3  "
      ]
     },
     "execution_count": 17,
     "metadata": {},
     "output_type": "execute_result"
    }
   ],
   "source": [
    "#Se exploran los duplicados\n",
    "duplicados.head()"
   ]
  },
  {
   "cell_type": "code",
   "execution_count": 26,
   "metadata": {},
   "outputs": [],
   "source": [
    "#Se eliminan los registros duplicados, por defecto se mantiene el primer registro de los duplicados\n",
    "#Se utiliza el argumento inplace para aplicar la eliminación directamente en el DataFrame\n",
    "tweets.drop_duplicates(subset=\"id\",inplace=True)"
   ]
  },
  {
   "cell_type": "code",
   "execution_count": 27,
   "metadata": {},
   "outputs": [
    {
     "data": {
      "text/plain": [
       "np.int64(1153)"
      ]
     },
     "execution_count": 27,
     "metadata": {},
     "output_type": "execute_result"
    }
   ],
   "source": [
    "#Se verifica nuevamente que no existan duplicados, se utiliza la variable previamente definida\n",
    "no_duplicados"
   ]
  },
  {
   "cell_type": "code",
   "execution_count": 28,
   "metadata": {},
   "outputs": [
    {
     "data": {
      "text/plain": [
       "id           0\n",
       "texto        0\n",
       "usuario      0\n",
       "hashtags     0\n",
       "fecha        0\n",
       "retweets     0\n",
       "favoritos    0\n",
       "dtype: int64"
      ]
     },
     "execution_count": 28,
     "metadata": {},
     "output_type": "execute_result"
    }
   ],
   "source": [
    "#Se verifican valores nulos\n",
    "tweets.isna().sum()"
   ]
  }
 ],
 "metadata": {
  "kernelspec": {
   "display_name": "Python 3",
   "language": "python",
   "name": "python3"
  },
  "language_info": {
   "codemirror_mode": {
    "name": "ipython",
    "version": 3
   },
   "file_extension": ".py",
   "mimetype": "text/x-python",
   "name": "python",
   "nbconvert_exporter": "python",
   "pygments_lexer": "ipython3",
   "version": "3.10.11"
  }
 },
 "nbformat": 4,
 "nbformat_minor": 2
}
